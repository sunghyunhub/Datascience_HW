{
 "cells": [
  {
   "cell_type": "code",
   "execution_count": 1,
   "id": "rational-ceiling",
   "metadata": {},
   "outputs": [
    {
     "ename": "IndentationError",
     "evalue": "expected an indented block (<ipython-input-1-df24ab6f67d2>, line 36)",
     "output_type": "error",
     "traceback": [
      "\u001b[1;36m  File \u001b[1;32m\"<ipython-input-1-df24ab6f67d2>\"\u001b[1;36m, line \u001b[1;32m36\u001b[0m\n\u001b[1;33m    print(cuts_under_30)\u001b[0m\n\u001b[1;37m                        ^\u001b[0m\n\u001b[1;31mIndentationError\u001b[0m\u001b[1;31m:\u001b[0m expected an indented block\n"
     ]
    }
   ],
   "source": [
    "hairstyles = [\"bouffant\", \"pixie\", \"dreadlocks\", \"crew\", \"bowl\", \"bob\", \"mohawk\", \"flattop\"]\n",
    "prices = [30, 25, 40, 20, 20, 35, 50, 35]\n",
    "last_week = [2, 3, 5, 8, 4, 4, 6, 2]\n",
    "new_prices = prices\n",
    "\n",
    "total_price = 0\n",
    "\n",
    "n = len(prices)\n",
    "\n",
    "for i in range (0,n):\n",
    "    total_price += prices[i]\n",
    "\n",
    "average_price = total_price / len(prices)\n",
    "print(\"Average price is \",average_price)\n",
    "\n",
    "for i in range (0,n):\n",
    "    new_prices[i] = (prices[i] - 5)\n",
    "\n",
    "print (new_prices)\n",
    "\n",
    "total_revenue = 0\n",
    "\n",
    "for i in range (0, len(hairstyles)):\n",
    "    total_revenue += prices[i] * last_week[i]\n",
    "\n",
    "average_daily_revenue =  total_revenue / 7\n",
    "print (\"Average daily revenue is %d\" %average_daily_revenue)\n",
    "\n",
    "cuts_under_30 = []\n",
    "\n",
    "for i in range(0,n):\n",
    "    if (new_prices[i] <= 30):\n",
    "        cuts_under_30 += hairstyles[i]\n",
    "    else: \n",
    "\n",
    "print(cuts_under_30)\n",
    "\n",
    "\n",
    "\n"
   ]
  },
  {
   "cell_type": "code",
   "execution_count": null,
   "id": "technological-indiana",
   "metadata": {},
   "outputs": [],
   "source": []
  }
 ],
 "metadata": {
  "kernelspec": {
   "display_name": "Python 3",
   "language": "python",
   "name": "python3"
  },
  "language_info": {
   "codemirror_mode": {
    "name": "ipython",
    "version": 3
   },
   "file_extension": ".py",
   "mimetype": "text/x-python",
   "name": "python",
   "nbconvert_exporter": "python",
   "pygments_lexer": "ipython3",
   "version": "3.9.2"
  }
 },
 "nbformat": 4,
 "nbformat_minor": 5
}
