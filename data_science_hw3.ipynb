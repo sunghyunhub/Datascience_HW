{
 "cells": [
  {
   "cell_type": "code",
   "execution_count": 1,
   "id": "legitimate-asset",
   "metadata": {},
   "outputs": [
    {
     "name": "stdout",
     "output_type": "stream",
     "text": [
      "Average price is  31.875\n",
      "[25, 20, 35, 15, 15, 30, 45, 30]\n",
      "Average daily revenue is 130\n",
      "['bouffant', 'pixie', 'crew', 'bowl']\n"
     ]
    }
   ],
   "source": [
    "hairstyles = [\"bouffant\", \"pixie\", \"dreadlocks\", \"crew\", \"bowl\", \"bob\", \"mohawk\", \"flattop\"]\n",
    "prices = [30, 25, 40, 20, 20, 35, 50, 35]\n",
    "last_week = [2, 3, 5, 8, 4, 4, 6, 2]\n",
    "new_prices = prices\n",
    "\n",
    "total_price = 0\n",
    "\n",
    "n = len(prices)\n",
    "\n",
    "for i in range (0,n):\n",
    "    total_price += prices[i]\n",
    "\n",
    "average_price = total_price / len(prices)\n",
    "print(\"Average price is \",average_price)\n",
    "\n",
    "for i in range (0,n):\n",
    "    new_prices[i] = (prices[i] - 5)\n",
    "\n",
    "print (new_prices)\n",
    "\n",
    "total_revenue = 0\n",
    "\n",
    "for i in range (0, len(hairstyles)):\n",
    "    total_revenue += prices[i] * last_week[i]\n",
    "\n",
    "average_daily_revenue =  total_revenue / 7\n",
    "print (\"Average daily revenue is %d\" %average_daily_revenue)\n",
    "\n",
    "cuts_under_30 = []\n",
    "\n",
    "n = len(new_prices)\n",
    "\n",
    "for i in range (0, n):\n",
    "    if (new_prices[i] < 30):\n",
    "        cuts_under_30 += [hairstyles[i]]\n",
    "\n",
    "print(cuts_under_30)\n"
   ]
  },
  {
   "cell_type": "code",
   "execution_count": null,
   "id": "mature-richards",
   "metadata": {},
   "outputs": [],
   "source": []
  }
 ],
 "metadata": {
  "kernelspec": {
   "display_name": "Python 3",
   "language": "python",
   "name": "python3"
  },
  "language_info": {
   "codemirror_mode": {
    "name": "ipython",
    "version": 3
   },
   "file_extension": ".py",
   "mimetype": "text/x-python",
   "name": "python",
   "nbconvert_exporter": "python",
   "pygments_lexer": "ipython3",
   "version": "3.9.2"
  }
 },
 "nbformat": 4,
 "nbformat_minor": 5
}
