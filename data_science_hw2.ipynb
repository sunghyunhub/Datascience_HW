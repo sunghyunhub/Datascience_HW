{
 "cells": [
  {
   "cell_type": "code",
   "execution_count": 1,
   "id": "crucial-magnet",
   "metadata": {},
   "outputs": [
    {
     "name": "stdout",
     "output_type": "stream",
     "text": [
      "[['physics', 98], ['calculus', 97], ['history', 88], ['computer science', 100], ['visual arts', 98], ['poetry', 'Pass']]\n",
      "[['politics', 80], ['latin', 96], ['dance', 97], ['architecture', 65], ['physics', 98], ['calculus', 97], ['history', 88], ['computer science', 100], ['visual arts', 98], ['poetry', 'Pass']]\n"
     ]
    }
   ],
   "source": [
    "subjects = [\"physics\", \"calculus\", \"poetry\", \"history\"]\n",
    "grades = [98, 97, 85, 88]\n",
    "gradebook = [['physics', 98],\n",
    "             ['calculus', 97],\n",
    "             ['poetry', 85],\n",
    "             ['history', 88]]\n",
    "\n",
    "gradebook.append(['computer science', 100])\n",
    "gradebook.append(['visual arts', 98])\n",
    "\n",
    "#poetry 점수 98 제거 후에 'Pass'로 변환 .remove & .append\n",
    "gradebook.remove(gradebook[2])\n",
    "gradebook.append(['poetry', 'Pass'])\n",
    "\n",
    "\n",
    "print(gradebook)\n",
    "\n",
    "last_semester_gradebook = [[\"politics\", 80],\n",
    "                           [\"latin\", 96],\n",
    "                           [\"dance\", 97],\n",
    "                           [\"architecture\", 65]]\n",
    "\n",
    "full_gradebook = last_semester_gradebook + gradebook\n",
    "print(full_gradebook)\n",
    "\n"
   ]
  },
  {
   "cell_type": "code",
   "execution_count": null,
   "id": "excellent-thousand",
   "metadata": {},
   "outputs": [],
   "source": []
  }
 ],
 "metadata": {
  "kernelspec": {
   "display_name": "Python 3",
   "language": "python",
   "name": "python3"
  },
  "language_info": {
   "codemirror_mode": {
    "name": "ipython",
    "version": 3
   },
   "file_extension": ".py",
   "mimetype": "text/x-python",
   "name": "python",
   "nbconvert_exporter": "python",
   "pygments_lexer": "ipython3",
   "version": "3.9.2"
  }
 },
 "nbformat": 4,
 "nbformat_minor": 5
}
